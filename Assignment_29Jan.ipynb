{
 "cells": [
  {
   "cell_type": "code",
   "execution_count": null,
   "id": "833153f4-7dee-47f4-93f8-1d947c05a5a0",
   "metadata": {},
   "outputs": [],
   "source": [
    "#1. Who developed Python Programming Language?\n",
    "\n",
    "## Python was developed by Guido van Rossum. \n",
    "## He released the first version of Python in 1991."
   ]
  },
  {
   "cell_type": "code",
   "execution_count": null,
   "id": "1c4d4caa-37a9-48a7-91be-f301f6b59cbe",
   "metadata": {},
   "outputs": [],
   "source": [
    "#2. Which type of Programming does Python support? \n",
    "\n",
    "## Python supports multiple programming paradigms.\n",
    "## Procedural Programming\n",
    "## Object-Oriented Programming (OOP)\n",
    "## Functional Programming"
   ]
  },
  {
   "cell_type": "code",
   "execution_count": null,
   "id": "878d9d30-313b-4366-a44e-f5dc6d6c4674",
   "metadata": {},
   "outputs": [],
   "source": [
    "#3. Is Python case sensitive when dealing with identifiers?\n",
    "\n",
    "## Yes Python is case sensitive."
   ]
  },
  {
   "cell_type": "code",
   "execution_count": null,
   "id": "e0a3d656-dfdf-4495-b99e-c7db83e12b05",
   "metadata": {},
   "outputs": [],
   "source": [
    "#4. What is the correct extension of the Python file?\\\n",
    "\n",
    "## \".py\" is the extension of pyhton file."
   ]
  },
  {
   "cell_type": "code",
   "execution_count": null,
   "id": "c1a07981-aadd-406b-a8b2-a72ff4df1572",
   "metadata": {},
   "outputs": [],
   "source": [
    "#5. Is Python code compiled or interprated?\n",
    "\n",
    "## Python code is interpreted."
   ]
  },
  {
   "cell_type": "code",
   "execution_count": null,
   "id": "e40d940e-84df-4a52-b91b-8c3df93ace34",
   "metadata": {},
   "outputs": [],
   "source": [
    "#6. Name a few blocks of code used to define in Python language? \n",
    "\n",
    "## Function defination, Class defination, Loops statement, Conditional statement."
   ]
  },
  {
   "cell_type": "code",
   "execution_count": null,
   "id": "c818c7d9-b3a8-461e-ac38-2d57833244b4",
   "metadata": {},
   "outputs": [],
   "source": [
    "#7. State o character used to give single-line comments in Python? \n",
    "\n",
    "## In python hash symbol \"#\" is used to give a single-line comment."
   ]
  },
  {
   "cell_type": "code",
   "execution_count": null,
   "id": "07044b26-98ca-49f9-9a85-16b079ea7dff",
   "metadata": {},
   "outputs": [],
   "source": [
    "#8. Mention functions which can help us to find the version of python that we are currently working on?\n",
    "\n",
    "## platform.python_version_tuple(), It will give Python version as a tuple of integers.\n",
    "## platform.python_version(), It will give Python version as a string.\n",
    "## Both are imorted from platform module."
   ]
  },
  {
   "cell_type": "code",
   "execution_count": null,
   "id": "636b1001-c357-4862-99bd-6adb7aad5b4c",
   "metadata": {},
   "outputs": [],
   "source": [
    "#9. Python supports the creation of anonymous functions at runtime, using o construct called\n",
    "\n",
    "## \"lambda\""
   ]
  },
  {
   "cell_type": "code",
   "execution_count": null,
   "id": "59936fe8-aa70-47aa-a1ae-f495594ddda3",
   "metadata": {},
   "outputs": [],
   "source": [
    "#10. What does pip stand for python?\n",
    "\n",
    "## PIP stands for \"Package Installer for Python.\""
   ]
  },
  {
   "cell_type": "code",
   "execution_count": null,
   "id": "fef712ea-2efa-4a39-8bf0-d4fd916f5e5c",
   "metadata": {},
   "outputs": [],
   "source": [
    "#11. Mention a few bullt-in functions in python?\n",
    "\n",
    "## len(), print(), help(), sorted(), type(), input(), range()"
   ]
  },
  {
   "cell_type": "code",
   "execution_count": null,
   "id": "e3edea18-2727-420e-aa1a-6be325712338",
   "metadata": {},
   "outputs": [],
   "source": [
    "#12. What is the maximum possible length of an identifier in Python? \n",
    "\n",
    "## In Python, an identifier is limited to a maximum length of 79 characters.\n",
    "## Although Python theoretically allows identifiers to have an unlimited length."
   ]
  },
  {
   "cell_type": "code",
   "execution_count": null,
   "id": "9c8406b9-4473-445a-a6a2-5ce1b07d0798",
   "metadata": {},
   "outputs": [],
   "source": [
    "#13. Wheit are the benefits of using Python? \n",
    "\n",
    "## Python has a syntax which is very easy to learn, read or write.\n",
    "## Python is a versatile language which is used in various types of programming.\n",
    "## Python is cross-platform.\n",
    "## Python has a very large number of built_in libraries.\n",
    "## Python is interpreted Language with Dynamic Typing."
   ]
  },
  {
   "cell_type": "code",
   "execution_count": null,
   "id": "005d7588-c813-417c-ad78-1a983ac87e04",
   "metadata": {},
   "outputs": [],
   "source": [
    "#14. How is memory managed in Python?\n",
    "\n",
    "## In Python, memory management is primarily handled through automatic mechanisms:\n",
    "\n",
    "## Reference Counting: Objects are automatically deallocated when their reference count drops to zero.\n",
    "\n",
    "## Garbage Collection: A garbage collector periodically frees memory occupied by unreachable objects,\n",
    "## including those involved in circular references.\n",
    "\n",
    "## Memory Allocation: Python dynamically allocates memory from a private heap to create objects \n",
    "## and data structures during program execution.\n",
    "\n",
    "## Optimization Techniques: Python employs optimization techniques like string interning to reduce\n",
    "## memory usage and improve performance."
   ]
  },
  {
   "cell_type": "code",
   "execution_count": null,
   "id": "0ae9b1df-add1-4fa8-8121-5041ebf66d60",
   "metadata": {},
   "outputs": [],
   "source": [
    "#15. How to install Python on Windows and set path variables? \n",
    "\n",
    "## Download Python: Go to python.org, download the installer for Windows, and run it.\n",
    "\n",
    "## Run Installer: Check \"Add Python X.X to PATH\" during installation.\n",
    "\n",
    "## Verify Installation: Open Command Prompt, type python --version, and press Enter.\n",
    "\n",
    "## Set Path Variables (Optional): If needed, manually add Python to the system path in Environment Variables.\n",
    "\n",
    "## Verify Path Configuration: Open a new Command Prompt window and check python --version again"
   ]
  },
  {
   "cell_type": "code",
   "execution_count": null,
   "id": "df4c3c1e-0e62-480a-a0e7-71679c0503ee",
   "metadata": {},
   "outputs": [],
   "source": [
    "#16. Is indentation required in python? \n",
    "\n",
    "## Yes, indentation is very important in python."
   ]
  },
  {
   "cell_type": "code",
   "execution_count": null,
   "id": "2e44affc-c7cb-495b-a170-f3d0ba0c67b8",
   "metadata": {},
   "outputs": [],
   "source": []
  },
  {
   "cell_type": "code",
   "execution_count": null,
   "id": "400ca54d-8c4c-4fed-80cb-8f0c5e74150b",
   "metadata": {},
   "outputs": [],
   "source": []
  }
 ],
 "metadata": {
  "kernelspec": {
   "display_name": "Python 3 (ipykernel)",
   "language": "python",
   "name": "python3"
  },
  "language_info": {
   "codemirror_mode": {
    "name": "ipython",
    "version": 3
   },
   "file_extension": ".py",
   "mimetype": "text/x-python",
   "name": "python",
   "nbconvert_exporter": "python",
   "pygments_lexer": "ipython3",
   "version": "3.10.8"
  }
 },
 "nbformat": 4,
 "nbformat_minor": 5
}
